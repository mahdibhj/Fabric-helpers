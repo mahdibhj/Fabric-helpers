{
 "cells": [
  {
   "cell_type": "code",
   "execution_count": null,
   "id": "ef6559eb-babf-4e28-a5d6-133501e2ebb2",
   "metadata": {
    "microsoft": {
     "language": "python",
     "language_group": "synapse_pyspark"
    }
   },
   "outputs": [],
   "source": [
    "%%configure\n",
    "{\n",
    "  \"defaultLakehouse\": {\n",
    "    \"name\": \"YourLakehouseName\",\n",
    "    \"id\": \"YourLakehouseId\",\n",
    "    \"workspaceId\": \"YourWorkspaceId\"\n",
    "  }\n",
    "}"
   ]
  },
  {
   "cell_type": "code",
   "execution_count": null,
   "id": "b73e816a-21d8-40bb-95f8-4e277c51b154",
   "metadata": {
    "microsoft": {
     "language": "python",
     "language_group": "synapse_pyspark"
    }
   },
   "outputs": [
    {
     "data": {
      "application/vnd.livy.statement-meta+json": {
       "execution_finish_time": "2025-09-25T14:35:45.7783806Z",
       "execution_start_time": "2025-09-25T14:35:17.2280359Z",
       "livy_statement_state": "available",
       "normalized_state": "finished",
       "parent_msg_id": "a877324d-d930-48f1-b0cf-fec40af66e2f",
       "queued_time": "2025-09-25T14:35:04.7685466Z",
       "session_id": "5e8e4be3-8860-4849-9bcc-4b8c6089f993",
       "session_start_time": "2025-09-25T14:35:04.7761682Z",
       "spark_pool": null,
       "state": "finished",
       "statement_id": 8,
       "statement_ids": [
        3,
        4,
        5,
        6,
        7,
        8
       ]
      },
      "text/plain": [
       "StatementMeta(, 5e8e4be3-8860-4849-9bcc-4b8c6089f993, 8, Finished, Available, Finished)"
      ]
     },
     "metadata": {},
     "output_type": "display_data"
    },
    {
     "name": "stdout",
     "output_type": "stream",
     "text": [
      "Collecting semantic-link-labs\r\n",
      "  Downloading semantic_link_labs-0.12.3-py3-none-any.whl.metadata (27 kB)\r\n",
      "Collecting semantic-link-sempy>=0.12.0 (from semantic-link-labs)\r\n",
      "  Downloading semantic_link_sempy-0.12.1-py3-none-any.whl.metadata (11 kB)\r\n",
      "Collecting anytree (from semantic-link-labs)\r\n",
      "  Downloading anytree-2.13.0-py3-none-any.whl.metadata (8.0 kB)\r\n",
      "Collecting polib (from semantic-link-labs)\r\n",
      "  Downloading polib-1.2.0-py2.py3-none-any.whl.metadata (15 kB)\r\n",
      "Collecting jsonpath_ng (from semantic-link-labs)\r\n",
      "  Downloading jsonpath_ng-1.7.0-py3-none-any.whl.metadata (18 kB)\r\n",
      "Requirement already satisfied: clr-loader>=0.2.5 in /home/trusted-service-user/cluster-env/trident_env/lib/python3.11/site-packages (from semantic-link-sempy>=0.12.0->semantic-link-labs) (0.2.5)\r\n",
      "Collecting fabric-analytics-sdk==0.0.1 (from fabric-analytics-sdk[online-notebook]==0.0.1->semantic-link-sempy>=0.12.0->semantic-link-labs)\r\n",
      "  Downloading fabric_analytics_sdk-0.0.1-py3-none-any.whl.metadata (14 kB)\r\n",
      "Requirement already satisfied: graphviz>=0.20.1 in /home/trusted-service-user/cluster-env/trident_env/lib/python3.11/site-packages (from semantic-link-sempy>=0.12.0->semantic-link-labs) (0.20.1)\r\n",
      "Collecting azure-keyvault-secrets>=4.7.0 (from semantic-link-sempy>=0.12.0->semantic-link-labs)\r\n",
      "  Downloading azure_keyvault_secrets-4.10.0-py3-none-any.whl.metadata (18 kB)\r\n",
      "Requirement already satisfied: pyarrow>=12.0.1 in /home/trusted-service-user/cluster-env/trident_env/lib/python3.11/site-packages (from semantic-link-sempy>=0.12.0->semantic-link-labs) (14.0.2)\r\n",
      "Requirement already satisfied: pythonnet>=3.0.1 in /home/trusted-service-user/cluster-env/trident_env/lib/python3.11/site-packages (from semantic-link-sempy>=0.12.0->semantic-link-labs) (3.0.1)\r\n",
      "Requirement already satisfied: scikit-learn>=1.2.2 in /home/trusted-service-user/cluster-env/trident_env/lib/python3.11/site-packages (from semantic-link-sempy>=0.12.0->semantic-link-labs) (1.2.2)\r\n",
      "Requirement already satisfied: setuptools>=68.2.2 in /home/trusted-service-user/cluster-env/trident_env/lib/python3.11/site-packages (from semantic-link-sempy>=0.12.0->semantic-link-labs) (68.2.2)\r\n",
      "Requirement already satisfied: tqdm>=4.65.0 in /home/trusted-service-user/cluster-env/trident_env/lib/python3.11/site-packages (from semantic-link-sempy>=0.12.0->semantic-link-labs) (4.65.0)\r\n",
      "Requirement already satisfied: rich>=13.3.5 in /home/trusted-service-user/cluster-env/trident_env/lib/python3.11/site-packages (from semantic-link-sempy>=0.12.0->semantic-link-labs) (13.3.5)\r\n",
      "Requirement already satisfied: regex>=2023.8.8 in /home/trusted-service-user/cluster-env/trident_env/lib/python3.11/site-packages (from semantic-link-sempy>=0.12.0->semantic-link-labs) (2023.10.3)\r\n",
      "Requirement already satisfied: pandas>=1.5.3 in /home/trusted-service-user/cluster-env/trident_env/lib/python3.11/site-packages (from semantic-link-sempy>=0.12.0->semantic-link-labs) (2.1.4)\r\n",
      "Requirement already satisfied: pyspark>=3.4.1 in /home/trusted-service-user/cluster-env/trident_env/lib/python3.11/site-packages (from semantic-link-sempy>=0.12.0->semantic-link-labs) (3.5.1.5.4.20240407)\r\n",
      "Requirement already satisfied: requests>=2.31.0 in /home/trusted-service-user/cluster-env/trident_env/lib/python3.11/site-packages (from semantic-link-sempy>=0.12.0->semantic-link-labs) (2.31.0)\r\n",
      "Requirement already satisfied: aiohttp>=3.8.6 in /home/trusted-service-user/cluster-env/trident_env/lib/python3.11/site-packages (from semantic-link-sempy>=0.12.0->semantic-link-labs) (3.9.3)\r\n",
      "Requirement already satisfied: IPython>=8.14.0 in /home/trusted-service-user/cluster-env/trident_env/lib/python3.11/site-packages (from semantic-link-sempy>=0.12.0->semantic-link-labs) (8.20.0)\r\n",
      "Requirement already satisfied: tenacity>=8.2.3 in /home/trusted-service-user/cluster-env/trident_env/lib/python3.11/site-packages (from semantic-link-sempy>=0.12.0->semantic-link-labs) (8.2.3)\r\n",
      "Requirement already satisfied: azure-core in /home/trusted-service-user/cluster-env/trident_env/lib/python3.11/site-packages (from fabric-analytics-sdk==0.0.1->fabric-analytics-sdk[online-notebook]==0.0.1->semantic-link-sempy>=0.12.0->semantic-link-labs) (1.30.2)\r\n",
      "Requirement already satisfied: azure-identity in /home/trusted-service-user/cluster-env/trident_env/lib/python3.11/site-packages (from fabric-analytics-sdk==0.0.1->fabric-analytics-sdk[online-notebook]==0.0.1->semantic-link-sempy>=0.12.0->semantic-link-labs) (1.15.0)\r\n",
      "Collecting fabric-analytics-notebook-plugin (from fabric-analytics-sdk[online-notebook]==0.0.1->semantic-link-sempy>=0.12.0->semantic-link-labs)\r\n",
      "  Downloading fabric_analytics_notebook_plugin-0.0.1-py3-none-any.whl.metadata (13 kB)\r\n",
      "Requirement already satisfied: ply in /home/trusted-service-user/cluster-env/trident_env/lib/python3.11/site-packages (from jsonpath_ng->semantic-link-labs) (3.11)\r\n",
      "Requirement already satisfied: aiosignal>=1.1.2 in /home/trusted-service-user/cluster-env/trident_env/lib/python3.11/site-packages (from aiohttp>=3.8.6->semantic-link-sempy>=0.12.0->semantic-link-labs) (1.2.0)\r\n",
      "Requirement already satisfied: attrs>=17.3.0 in /home/trusted-service-user/cluster-env/trident_env/lib/python3.11/site-packages (from aiohttp>=3.8.6->semantic-link-sempy>=0.12.0->semantic-link-labs) (23.1.0)\r\n",
      "Requirement already satisfied: frozenlist>=1.1.1 in /home/trusted-service-user/cluster-env/trident_env/lib/python3.11/site-packages (from aiohttp>=3.8.6->semantic-link-sempy>=0.12.0->semantic-link-labs) (1.4.0)\r\n",
      "Requirement already satisfied: multidict<7.0,>=4.5 in /home/trusted-service-user/cluster-env/trident_env/lib/python3.11/site-packages (from aiohttp>=3.8.6->semantic-link-sempy>=0.12.0->semantic-link-labs) (6.0.4)\r\n",
      "Requirement already satisfied: yarl<2.0,>=1.0 in /home/trusted-service-user/cluster-env/trident_env/lib/python3.11/site-packages (from aiohttp>=3.8.6->semantic-link-sempy>=0.12.0->semantic-link-labs) (1.9.3)\r\n",
      "Requirement already satisfied: isodate>=0.6.1 in /home/trusted-service-user/cluster-env/trident_env/lib/python3.11/site-packages (from azure-keyvault-secrets>=4.7.0->semantic-link-sempy>=0.12.0->semantic-link-labs) (0.6.1)\r\n",
      "Collecting azure-core (from fabric-analytics-sdk==0.0.1->fabric-analytics-sdk[online-notebook]==0.0.1->semantic-link-sempy>=0.12.0->semantic-link-labs)\r\n",
      "  Downloading azure_core-1.35.1-py3-none-any.whl.metadata (46 kB)\r\n",
      "\u001b[?25l     \u001b[90m━━━━━━━━━━━━━━━━━━━━━━━━━━━━━━━━━━━━━━━━\u001b[0m \u001b[32m0.0/46.5 kB\u001b[0m \u001b[31m?\u001b[0m eta \u001b[36m-:--:--\u001b[0m\r\u001b[2K     \u001b[90m━━━━━━━━━━━━━━━━━━━━━━━━━━━━━━━━━━━━━━━━\u001b[0m \u001b[32m46.5/46.5 kB\u001b[0m \u001b[31m5.9 MB/s\u001b[0m eta \u001b[36m0:00:00\u001b[0m\r\n",
      "\u001b[?25hRequirement already satisfied: typing-extensions>=4.6.0 in /home/trusted-service-user/cluster-env/trident_env/lib/python3.11/site-packages (from azure-keyvault-secrets>=4.7.0->semantic-link-sempy>=0.12.0->semantic-link-labs) (4.9.0)\r\n",
      "Requirement already satisfied: cffi>=1.13 in /home/trusted-service-user/cluster-env/trident_env/lib/python3.11/site-packages (from clr-loader>=0.2.5->semantic-link-sempy>=0.12.0->semantic-link-labs) (1.16.0)\r\n"
     ]
    },
    {
     "name": "stdout",
     "output_type": "stream",
     "text": [
      "Requirement already satisfied: decorator in /home/trusted-service-user/cluster-env/trident_env/lib/python3.11/site-packages (from IPython>=8.14.0->semantic-link-sempy>=0.12.0->semantic-link-labs) (5.1.1)\r\n",
      "Requirement already satisfied: jedi>=0.16 in /home/trusted-service-user/cluster-env/trident_env/lib/python3.11/site-packages (from IPython>=8.14.0->semantic-link-sempy>=0.12.0->semantic-link-labs) (0.18.1)\r\n",
      "Requirement already satisfied: matplotlib-inline in /home/trusted-service-user/cluster-env/trident_env/lib/python3.11/site-packages (from IPython>=8.14.0->semantic-link-sempy>=0.12.0->semantic-link-labs) (0.1.6)\r\n",
      "Requirement already satisfied: prompt-toolkit<3.1.0,>=3.0.41 in /home/trusted-service-user/cluster-env/trident_env/lib/python3.11/site-packages (from IPython>=8.14.0->semantic-link-sempy>=0.12.0->semantic-link-labs) (3.0.43)\r\n",
      "Requirement already satisfied: pygments>=2.4.0 in /home/trusted-service-user/cluster-env/trident_env/lib/python3.11/site-packages (from IPython>=8.14.0->semantic-link-sempy>=0.12.0->semantic-link-labs) (2.15.1)\r\n",
      "Requirement already satisfied: stack-data in /home/trusted-service-user/cluster-env/trident_env/lib/python3.11/site-packages (from IPython>=8.14.0->semantic-link-sempy>=0.12.0->semantic-link-labs) (0.2.0)\r\n",
      "Requirement already satisfied: traitlets>=5 in /home/trusted-service-user/cluster-env/trident_env/lib/python3.11/site-packages (from IPython>=8.14.0->semantic-link-sempy>=0.12.0->semantic-link-labs) (5.7.1)\r\n",
      "Requirement already satisfied: pexpect>4.3 in /home/trusted-service-user/cluster-env/trident_env/lib/python3.11/site-packages (from IPython>=8.14.0->semantic-link-sempy>=0.12.0->semantic-link-labs) (4.8.0)\r\n",
      "Requirement already satisfied: numpy<2,>=1.23.2 in /home/trusted-service-user/cluster-env/trident_env/lib/python3.11/site-packages (from pandas>=1.5.3->semantic-link-sempy>=0.12.0->semantic-link-labs) (1.26.4)\r\n",
      "Requirement already satisfied: python-dateutil>=2.8.2 in /home/trusted-service-user/cluster-env/trident_env/lib/python3.11/site-packages (from pandas>=1.5.3->semantic-link-sempy>=0.12.0->semantic-link-labs) (2.8.2)\r\n",
      "Requirement already satisfied: pytz>=2020.1 in /home/trusted-service-user/cluster-env/trident_env/lib/python3.11/site-packages (from pandas>=1.5.3->semantic-link-sempy>=0.12.0->semantic-link-labs) (2023.3.post1)\r\n",
      "Requirement already satisfied: tzdata>=2022.1 in /home/trusted-service-user/cluster-env/trident_env/lib/python3.11/site-packages (from pandas>=1.5.3->semantic-link-sempy>=0.12.0->semantic-link-labs) (2023.3)\r\n",
      "Requirement already satisfied: py4j==0.10.9.7 in /home/trusted-service-user/cluster-env/trident_env/lib/python3.11/site-packages (from pyspark>=3.4.1->semantic-link-sempy>=0.12.0->semantic-link-labs) (0.10.9.7)\r\n",
      "Requirement already satisfied: charset-normalizer<4,>=2 in /home/trusted-service-user/cluster-env/trident_env/lib/python3.11/site-packages (from requests>=2.31.0->semantic-link-sempy>=0.12.0->semantic-link-labs) (2.0.4)\r\n",
      "Requirement already satisfied: idna<4,>=2.5 in /home/trusted-service-user/cluster-env/trident_env/lib/python3.11/site-packages (from requests>=2.31.0->semantic-link-sempy>=0.12.0->semantic-link-labs) (3.4)\r\n",
      "Requirement already satisfied: urllib3<3,>=1.21.1 in /home/trusted-service-user/cluster-env/trident_env/lib/python3.11/site-packages (from requests>=2.31.0->semantic-link-sempy>=0.12.0->semantic-link-labs) (2.1.0)\r\n",
      "Requirement already satisfied: certifi>=2017.4.17 in /home/trusted-service-user/cluster-env/trident_env/lib/python3.11/site-packages (from requests>=2.31.0->semantic-link-sempy>=0.12.0->semantic-link-labs) (2024.2.2)\r\n",
      "Requirement already satisfied: markdown-it-py<3.0.0,>=2.2.0 in /home/trusted-service-user/cluster-env/trident_env/lib/python3.11/site-packages (from rich>=13.3.5->semantic-link-sempy>=0.12.0->semantic-link-labs) (2.2.0)\r\n",
      "Requirement already satisfied: scipy>=1.3.2 in /home/trusted-service-user/cluster-env/trident_env/lib/python3.11/site-packages (from scikit-learn>=1.2.2->semantic-link-sempy>=0.12.0->semantic-link-labs) (1.11.4)\r\n",
      "Requirement already satisfied: joblib>=1.1.1 in /home/trusted-service-user/cluster-env/trident_env/lib/python3.11/site-packages (from scikit-learn>=1.2.2->semantic-link-sempy>=0.12.0->semantic-link-labs) (1.2.0)\r\n",
      "Requirement already satisfied: threadpoolctl>=2.0.0 in /home/trusted-service-user/cluster-env/trident_env/lib/python3.11/site-packages (from scikit-learn>=1.2.2->semantic-link-sempy>=0.12.0->semantic-link-labs) (2.2.0)\r\n",
      "Requirement already satisfied: six>=1.11.0 in /home/trusted-service-user/cluster-env/trident_env/lib/python3.11/site-packages (from azure-core->fabric-analytics-sdk==0.0.1->fabric-analytics-sdk[online-notebook]==0.0.1->semantic-link-sempy>=0.12.0->semantic-link-labs) (1.16.0)\r\n",
      "Requirement already satisfied: pycparser in /home/trusted-service-user/cluster-env/trident_env/lib/python3.11/site-packages (from cffi>=1.13->clr-loader>=0.2.5->semantic-link-sempy>=0.12.0->semantic-link-labs) (2.21)\r\n",
      "Requirement already satisfied: parso<0.9.0,>=0.8.0 in /home/trusted-service-user/cluster-env/trident_env/lib/python3.11/site-packages (from jedi>=0.16->IPython>=8.14.0->semantic-link-sempy>=0.12.0->semantic-link-labs) (0.8.3)\r\n",
      "Requirement already satisfied: mdurl~=0.1 in /home/trusted-service-user/cluster-env/trident_env/lib/python3.11/site-packages (from markdown-it-py<3.0.0,>=2.2.0->rich>=13.3.5->semantic-link-sempy>=0.12.0->semantic-link-labs) (0.1.0)\r\n",
      "Requirement already satisfied: ptyprocess>=0.5 in /home/trusted-service-user/cluster-env/trident_env/lib/python3.11/site-packages (from pexpect>4.3->IPython>=8.14.0->semantic-link-sempy>=0.12.0->semantic-link-labs) (0.7.0)\r\n",
      "Requirement already satisfied: wcwidth in /home/trusted-service-user/cluster-env/trident_env/lib/python3.11/site-packages (from prompt-toolkit<3.1.0,>=3.0.41->IPython>=8.14.0->semantic-link-sempy>=0.12.0->semantic-link-labs) (0.2.5)\r\n",
      "Requirement already satisfied: cryptography>=2.5 in /home/trusted-service-user/cluster-env/trident_env/lib/python3.11/site-packages (from azure-identity->fabric-analytics-sdk==0.0.1->fabric-analytics-sdk[online-notebook]==0.0.1->semantic-link-sempy>=0.12.0->semantic-link-labs) (42.0.2)\r\n",
      "Requirement already satisfied: msal<2.0.0,>=1.24.0 in /home/trusted-service-user/cluster-env/trident_env/lib/python3.11/site-packages (from azure-identity->fabric-analytics-sdk==0.0.1->fabric-analytics-sdk[online-notebook]==0.0.1->semantic-link-sempy>=0.12.0->semantic-link-labs) (1.25.0)\r\n",
      "Requirement already satisfied: msal-extensions<2.0.0,>=0.3.0 in /home/trusted-service-user/cluster-env/trident_env/lib/python3.11/site-packages (from azure-identity->fabric-analytics-sdk==0.0.1->fabric-analytics-sdk[online-notebook]==0.0.1->semantic-link-sempy>=0.12.0->semantic-link-labs) (1.0.0)\r\n",
      "Requirement already satisfied: psutil in /home/trusted-service-user/cluster-env/trident_env/lib/python3.11/site-packages (from fabric-analytics-notebook-plugin->fabric-analytics-sdk[online-notebook]==0.0.1->semantic-link-sempy>=0.12.0->semantic-link-labs) (5.9.0)\r\n",
      "Requirement already satisfied: executing in /home/trusted-service-user/cluster-env/trident_env/lib/python3.11/site-packages (from stack-data->IPython>=8.14.0->semantic-link-sempy>=0.12.0->semantic-link-labs) (0.8.3)\r\n",
      "Requirement already satisfied: asttokens in /home/trusted-service-user/cluster-env/trident_env/lib/python3.11/site-packages (from stack-data->IPython>=8.14.0->semantic-link-sempy>=0.12.0->semantic-link-labs) (2.0.5)\r\n",
      "Requirement already satisfied: pure-eval in /home/trusted-service-user/cluster-env/trident_env/lib/python3.11/site-packages (from stack-data->IPython>=8.14.0->semantic-link-sempy>=0.12.0->semantic-link-labs) (0.2.2)\r\n",
      "Requirement already satisfied: PyJWT<3,>=1.0.0 in /home/trusted-service-user/cluster-env/trident_env/lib/python3.11/site-packages (from PyJWT[crypto]<3,>=1.0.0->msal<2.0.0,>=1.24.0->azure-identity->fabric-analytics-sdk==0.0.1->fabric-analytics-sdk[online-notebook]==0.0.1->semantic-link-sempy>=0.12.0->semantic-link-labs) (2.4.0)\r\n",
      "Requirement already satisfied: portalocker<3,>=1.0 in /home/trusted-service-user/cluster-env/trident_env/lib/python3.11/site-packages (from msal-extensions<2.0.0,>=0.3.0->azure-identity->fabric-analytics-sdk==0.0.1->fabric-analytics-sdk[online-notebook]==0.0.1->semantic-link-sempy>=0.12.0->semantic-link-labs) (2.3.0)\r\n",
      "Downloading semantic_link_labs-0.12.3-py3-none-any.whl (764 kB)\r\n",
      "\u001b[?25l   \u001b[90m━━━━━━━━━━━━━━━━━━━━━━━━━━━━━━━━━━━━━━━━\u001b[0m \u001b[32m0.0/764.7 kB\u001b[0m \u001b[31m?\u001b[0m eta \u001b[36m-:--:--\u001b[0m\r\u001b[2K   \u001b[91m━━━━━━━━━━━━━━━━━━━━━\u001b[0m\u001b[91m╸\u001b[0m\u001b[90m━━━━━━━━━━━━━━━━━━\u001b[0m \u001b[32m419.8/764.7 kB\u001b[0m \u001b[31m12.6 MB/s\u001b[0m eta \u001b[36m0:00:01\u001b[0m\r\u001b[2K   \u001b[90m━━━━━━━━━━━━━━━━━━━━━━━━━━━━━━━━━━━━━━━━\u001b[0m \u001b[32m764.7/764.7 kB\u001b[0m \u001b[31m13.0 MB/s\u001b[0m eta \u001b[36m0:00:00\u001b[0m\r\n",
      "\u001b[?25hDownloading semantic_link_sempy-0.12.1-py3-none-any.whl (3.3 MB)\r\n",
      "\u001b[?25l   \u001b[90m━━━━━━━━━━━━━━━━━━━━━━━━━━━━━━━━━━━━━━━━\u001b[0m \u001b[32m0.0/3.3 MB\u001b[0m \u001b[31m?\u001b[0m eta \u001b[36m-:--:--\u001b[0m\r\u001b[2K   \u001b[91m━━━━━━━━━━\u001b[0m\u001b[90m╺\u001b[0m\u001b[90m━━━━━━━━━━━━━━━━━━━━━━━━━━━━━\u001b[0m \u001b[32m0.8/3.3 MB\u001b[0m \u001b[31m24.8 MB/s\u001b[0m eta \u001b[36m0:00:01\u001b[0m\r\u001b[2K   \u001b[91m━━━━━━━━━━━━━━━━━━━━━━━\u001b[0m\u001b[91m╸\u001b[0m\u001b[90m━━━━━━━━━━━━━━━━\u001b[0m \u001b[32m1.9/3.3 MB\u001b[0m \u001b[31m28.6 MB/s\u001b[0m eta \u001b[36m0:00:01\u001b[0m\r\u001b[2K   \u001b[91m━━━━━━━━━━━━━━━━━━━━━━━━━━━━━━━━━━━━━━━\u001b[0m\u001b[91m╸\u001b[0m \u001b[32m3.3/3.3 MB\u001b[0m \u001b[31m33.6 MB/s\u001b[0m eta \u001b[36m0:00:01\u001b[0m\r\u001b[2K   \u001b[90m━━━━━━━━━━━━━━━━━━━━━━━━━━━━━━━━━━━━━━━━\u001b[0m \u001b[32m3.3/3.3 MB\u001b[0m \u001b[31m29.9 MB/s\u001b[0m eta \u001b[36m0:00:00\u001b[0m\r\n",
      "\u001b[?25hDownloading fabric_analytics_sdk-0.0.1-py3-none-any.whl (34 kB)\r\n",
      "Downloading anytree-2.13.0-py3-none-any.whl (45 kB)\r\n",
      "\u001b[?25l   \u001b[90m━━━━━━━━━━━━━━━━━━━━━━━━━━━━━━━━━━━━━━━━\u001b[0m \u001b[32m0.0/45.1 kB\u001b[0m \u001b[31m?\u001b[0m eta \u001b[36m-:--:--\u001b[0m\r\u001b[2K   \u001b[90m━━━━━━━━━━━━━━━━━━━━━━━━━━━━━━━━━━━━━━━━\u001b[0m \u001b[32m45.1/45.1 kB\u001b[0m \u001b[31m13.5 MB/s\u001b[0m eta \u001b[36m0:00:00\u001b[0m\r\n",
      "\u001b[?25hDownloading jsonpath_ng-1.7.0-py3-none-any.whl (30 kB)\r\n",
      "Downloading polib-1.2.0-py2.py3-none-any.whl (20 kB)\r\n",
      "Downloading azure_keyvault_secrets-4.10.0-py3-none-any.whl (125 kB)\r\n",
      "\u001b[?25l   \u001b[90m━━━━━━━━━━━━━━━━━━━━━━━━━━━━━━━━━━━━━━━━\u001b[0m \u001b[32m0.0/125.2 kB\u001b[0m \u001b[31m?\u001b[0m eta \u001b[36m-:--:--\u001b[0m\r\u001b[2K   \u001b[90m━━━━━━━━━━━━━━━━━━━━━━━━━━━━━━━━━━━━━━━━\u001b[0m \u001b[32m125.2/125.2 kB\u001b[0m \u001b[31m44.7 MB/s\u001b[0m eta \u001b[36m0:00:00\u001b[0m\r\n",
      "\u001b[?25hDownloading azure_core-1.35.1-py3-none-any.whl (211 kB)\r\n",
      "\u001b[?25l   \u001b[90m━━━━━━━━━━━━━━━━━━━━━━━━━━━━━━━━━━━━━━━━\u001b[0m \u001b[32m0.0/211.8 kB\u001b[0m \u001b[31m?\u001b[0m eta \u001b[36m-:--:--\u001b[0m\r\u001b[2K   \u001b[90m━━━━━━━━━━━━━━━━━━━━━━━━━━━━━━━━━━━━━━━━\u001b[0m \u001b[32m211.8/211.8 kB\u001b[0m \u001b[31m53.8 MB/s\u001b[0m eta \u001b[36m0:00:00\u001b[0m\r\n",
      "\u001b[?25hDownloading fabric_analytics_notebook_plugin-0.0.1-py3-none-any.whl (20 kB)\r\n"
     ]
    },
    {
     "name": "stdout",
     "output_type": "stream",
     "text": [
      "Installing collected packages: polib, jsonpath_ng, anytree, azure-core, azure-keyvault-secrets, fabric-analytics-sdk, fabric-analytics-notebook-plugin, semantic-link-sempy, semantic-link-labs\r\n",
      "  Attempting uninstall: azure-core\r\n",
      "    Found existing installation: azure-core 1.30.2\r\n",
      "    Not uninstalling azure-core at /home/trusted-service-user/cluster-env/trident_env/lib/python3.11/site-packages, outside environment /nfs4/pyenv-070b7be7-3f85-4d8a-b5fc-42fe90f8f0e0\r\n",
      "    Can't uninstall 'azure-core'. No files were found to uninstall.\r\n",
      "  Attempting uninstall: semantic-link-sempy\r\n",
      "    Found existing installation: semantic-link-sempy 0.11.0\r\n",
      "    Not uninstalling semantic-link-sempy at /home/trusted-service-user/cluster-env/trident_env/lib/python3.11/site-packages, outside environment /nfs4/pyenv-070b7be7-3f85-4d8a-b5fc-42fe90f8f0e0\r\n",
      "    Can't uninstall 'semantic-link-sempy'. No files were found to uninstall.\r\n"
     ]
    },
    {
     "name": "stdout",
     "output_type": "stream",
     "text": [
      "\u001b[31mERROR: pip's dependency resolver does not currently take into account all the packages that are installed. This behaviour is the source of the following dependency conflicts.\r\n",
      "fsspec-wrapper 0.1.15 requires PyJWT>=2.6.0, but you have pyjwt 2.4.0 which is incompatible.\u001b[0m\u001b[31m\r\n",
      "\u001b[0mSuccessfully installed anytree-2.13.0 azure-core-1.35.1 azure-keyvault-secrets-4.10.0 fabric-analytics-notebook-plugin-0.0.1 fabric-analytics-sdk-0.0.1 jsonpath_ng-1.7.0 polib-1.2.0 semantic-link-labs-0.12.3 semantic-link-sempy-0.12.1\r\n",
      "\r\n",
      "\u001b[1m[\u001b[0m\u001b[34;49mnotice\u001b[0m\u001b[1;39;49m]\u001b[0m\u001b[39;49m A new release of pip is available: \u001b[0m\u001b[31;49m24.0\u001b[0m\u001b[39;49m -> \u001b[0m\u001b[32;49m25.2\u001b[0m\r\n",
      "\u001b[1m[\u001b[0m\u001b[34;49mnotice\u001b[0m\u001b[1;39;49m]\u001b[0m\u001b[39;49m To update, run: \u001b[0m\u001b[32;49mpython -m pip install --upgrade pip\u001b[0m\r\n",
      "Note: you may need to restart the kernel to use updated packages.\n"
     ]
    },
    {
     "name": "stdout",
     "output_type": "stream",
     "text": [
      "Warning: PySpark kernel has been restarted to use updated packages.\n",
      "\n"
     ]
    }
   ],
   "source": [
    "\n",
    "%pip install -U semantic-link-labs\n",
    "from sempy_labs.tom import connect_semantic_model\n",
    "import pandas as pd\n",
    "\n",
    "csv_path = \"/lakehouse/default/Files/relations_df.csv\"\n",
    "\n",
    "df = pd.read_csv(csv_path, dtype=str, sep=\";\").fillna(\"\")\n",
    "WORKSPACE = \"YourWorkspaceName\"\n",
    "DATASET   = \"YourSemanticModelName\"\n",
    "\n"
   ]
  },
  {
   "cell_type": "code",
   "execution_count": 2,
   "id": "7969208e-46f9-49aa-bf62-62173be2b269",
   "metadata": {
    "microsoft": {
     "language": "python",
     "language_group": "synapse_pyspark"
    }
   },
   "outputs": [
    {
     "data": {
      "application/vnd.livy.statement-meta+json": {
       "execution_finish_time": "2025-09-25T14:35:49.1420096Z",
       "execution_start_time": "2025-09-25T14:35:48.8419611Z",
       "livy_statement_state": "available",
       "normalized_state": "finished",
       "parent_msg_id": "fa4c37d9-6412-40e9-ba58-9090be41325b",
       "queued_time": "2025-09-25T14:35:04.771934Z",
       "session_id": "5e8e4be3-8860-4849-9bcc-4b8c6089f993",
       "session_start_time": null,
       "spark_pool": null,
       "state": "finished",
       "statement_id": 10,
       "statement_ids": [
        10
       ]
      },
      "text/plain": [
       "StatementMeta(, 5e8e4be3-8860-4849-9bcc-4b8c6089f993, 10, Finished, Available, Finished)"
      ]
     },
     "metadata": {},
     "output_type": "display_data"
    },
    {
     "name": "stdout",
     "output_type": "stream",
     "text": [
      "     from_table      to_table from_column to_column from_cardinality  \\\n",
      "0  dbo_CAPCPI01  dbo_CAPFRP02     NOPARTC   NOPARTC             Many   \n",
      "\n",
      "  to_cardinality cross_filtering_behavior active  \n",
      "0            One             OneDirection   True  \n"
     ]
    }
   ],
   "source": [
    "print(df)"
   ]
  },
  {
   "cell_type": "code",
   "execution_count": 5,
   "id": "3325c298-3bcd-4280-902a-cbaf43886cfa",
   "metadata": {
    "microsoft": {
     "language": "python",
     "language_group": "synapse_pyspark"
    }
   },
   "outputs": [
    {
     "data": {
      "application/vnd.livy.statement-meta+json": {
       "execution_finish_time": "2025-09-25T14:36:02.4462149Z",
       "execution_start_time": "2025-09-25T14:35:49.1443869Z",
       "livy_statement_state": "available",
       "normalized_state": "finished",
       "parent_msg_id": "bc317fb3-5c67-4701-b0fc-9a479f63ddbd",
       "queued_time": "2025-09-25T14:35:04.7796087Z",
       "session_id": "5e8e4be3-8860-4849-9bcc-4b8c6089f993",
       "session_start_time": null,
       "spark_pool": null,
       "state": "finished",
       "statement_id": 11,
       "statement_ids": [
        11
       ]
      },
      "text/plain": [
       "StatementMeta(, 5e8e4be3-8860-4849-9bcc-4b8c6089f993, 11, Finished, Available, Finished)"
      ]
     },
     "metadata": {},
     "output_type": "display_data"
    },
    {
     "name": "stdout",
     "output_type": "stream",
     "text": [
      "['add_calculated_column', 'add_calculated_table', 'add_calculated_table_column', 'add_calculation_group', 'add_calculation_item', 'add_changed_property', 'add_data_column', 'add_entity_partition', 'add_expression', 'add_field_parameter', 'add_hierarchy', 'add_incremental_refresh_policy', 'add_m_partition', 'add_measure', 'add_perspective', 'add_relationship', 'add_role', 'add_role_member', 'add_table', 'add_time_intelligence', 'add_to_perspective', 'add_translation', 'all_calculated_columns', 'all_calculated_tables', 'all_calculation_groups', 'all_calculation_items', 'all_columns', 'all_date_tables', 'all_hierarchies', 'all_hybrid_tables', 'all_levels', 'all_measures', 'all_partitions', 'all_rls', 'apply_refresh_policy', 'cardinality', 'clear_annotations', 'clear_extended_properties', 'clear_linguistic_schema', 'close', 'convert_direct_lake_to_import', 'copy_object', 'data_size', 'delete_synonym', 'depends_on', 'dictionary_size', 'format_dax', 'fully_qualified_measures', 'generate_measure_descriptions', 'get_annotation_value', 'get_annotations', 'get_bim', 'get_extended_properties', 'get_extended_property_value', 'get_linguistic_schema', 'has_aggs', 'has_date_table', 'has_hybrid_table', 'has_incremental_refresh_policy', 'in_perspective', 'is_agg_table', 'is_auto_date_table', 'is_calculated_column', 'is_calculated_table', 'is_date_table', 'is_direct_lake', 'is_direct_lake_using_view', 'is_field_parameter', 'is_hybrid_table', 'mark_as_date_table', 'model', 'records_per_segment', 'referenced_by', 'remove_alternate_of', 'remove_annotation', 'remove_changed_property', 'remove_extended_property', 'remove_from_perspective', 'remove_object', 'remove_role_member', 'remove_sort_by_column', 'remove_translation', 'remove_vertipaq_annotations', 'row_count', 'set_aggregations', 'set_alternate_of', 'set_annotation', 'set_data_coverage_definition', 'set_data_type', 'set_direct_lake_behavior', 'set_encoding_hint', 'set_extended_property', 'set_is_available_in_mdx', 'set_kpi', 'set_ols', 'set_rls', 'set_sort_by_column', 'set_summarize_by', 'set_synonym', 'set_translation', 'set_value_filter_behavior', 'set_vertipaq_annotations', 'show_incremental_refresh_policy', 'total_size', 'unqualified_columns', 'update_calculation_item', 'update_column', 'update_incremental_refresh_policy', 'update_lineage_tags', 'update_m_partition', 'update_measure', 'update_role', 'used_in_calc_item', 'used_in_data_coverage_definition', 'used_in_hierarchies', 'used_in_levels', 'used_in_relationships', 'used_in_rls', 'used_in_sort_by', 'used_size']\n",
      "[]\n",
      "Relations créées : 1, ignorées (déjà présentes) : 0\n"
     ]
    }
   ],
   "source": [
    "def normalize_bool(x:str) -> bool:\n",
    "    return str(x).strip().lower() in {\"true\",\"1\",\"yes\",\"y\",\"t\"}\n",
    "\n",
    "def rel_key(r):\n",
    "    return (r.from_table.lower(), r.from_column.lower(),\n",
    "            r.to_table.lower(),   r.to_column.lower())\n",
    "\n",
    "created, skipped = 0, 0\n",
    "\n",
    "with connect_semantic_model(dataset=DATASET,\n",
    "                            workspace=WORKSPACE,\n",
    "                            readonly=False) as model:\n",
    "    attrs = [a for a in dir(model) if not a.startswith(\"_\")]\n",
    "    #print(attrs)\n",
    "    relations = [a for a in dir(model.used_in_relationships) if not a.startswith(\"_\")]\n",
    "    #print(relations)\n",
    "    # index existant – bien plus rapide que boucler sur model.relationships à chaque ligne\n",
    "    existing = {rel_key(r) for r in relations}\n",
    "\n",
    "    for _, row in df.iterrows():\n",
    "        key = (row[\"from_table\"].strip().lower(),\n",
    "               row[\"from_column\"].strip().lower(),\n",
    "               row[\"to_table\"].strip().lower(),\n",
    "               row[\"to_column\"].strip().lower())\n",
    "\n",
    "        if key in existing:\n",
    "            skipped += 1\n",
    "            continue\n",
    "\n",
    "        model.add_relationship(\n",
    "            from_table=row[\"from_table\"].strip(),\n",
    "            from_column=row[\"from_column\"].strip(),\n",
    "            to_table=row[\"to_table\"].strip(),\n",
    "            to_column=row[\"to_column\"].strip(),\n",
    "            from_cardinality=row.get(\"from_cardinality\",\"Many\").strip(),\n",
    "            to_cardinality=row.get(\"to_cardinality\",\"One\").strip(),\n",
    "            cross_filtering_behavior=row.get(\"cross_filtering_behavior\",\"SingleDirection\").strip(),\n",
    "            is_active=normalize_bool(row.get(\"active\",\"True\"))\n",
    "        )\n",
    "        created += 1\n",
    "\n",
    "    #model.save_changes()\n",
    "\n",
    "print(f\"Relations créées : {created}, ignorées (déjà présentes) : {skipped}\")"
   ]
  }
 ],
 "metadata": {
  "dependencies": {
   "lakehouse": {
    "default_lakehouse": "0f7ea142-ed3b-4630-8e5b-5468bd7e5bb9",
    "default_lakehouse_name": "brz_lakehouse_raw_all_sources",
    "default_lakehouse_workspace_id": "c0f3ad47-9fe1-4b30-af96-0e92bb39adbd",
    "known_lakehouses": [
     {
      "id": "0f7ea142-ed3b-4630-8e5b-5468bd7e5bb9"
     }
    ]
   }
  },
  "kernel_info": {
   "name": "synapse_pyspark"
  },
  "kernelspec": {
   "display_name": "synapse_pyspark",
   "name": "synapse_pyspark"
  },
  "language_info": {
   "name": "python"
  },
  "microsoft": {
   "language": "python",
   "language_group": "synapse_pyspark",
   "ms_spell_check": {
    "ms_spell_check_language": "fr"
   }
  },
  "nteract": {
   "version": "nteract-front-end@1.0.0"
  },
  "spark_compute": {
   "compute_id": "/trident/default",
   "session_options": {
    "conf": {
     "spark.synapse.nbs.session.timeout": "1200000"
    }
   }
  }
 },
 "nbformat": 4,
 "nbformat_minor": 5
}
